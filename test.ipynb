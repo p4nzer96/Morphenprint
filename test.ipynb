{
 "cells": [
  {
   "cell_type": "code",
   "execution_count": 1,
   "metadata": {},
   "outputs": [],
   "source": [
    "# Load loop combinations file\n",
    "\n",
    "import pandas as pd\n",
    "\n",
    "combinations_l = pd.read_csv('./combinations_loop.csv')\n"
   ]
  },
  {
   "cell_type": "code",
   "execution_count": 2,
   "metadata": {},
   "outputs": [
    {
     "name": "stdout",
     "output_type": "stream",
     "text": [
      "Processing 0...\n",
      "Image1    /home/p4nzer96/Desktop/Morphing/Fingerprint/Mo...\n",
      "Image2    /home/p4nzer96/Desktop/Morphing/Fingerprint/Mo...\n",
      "Type                                                   loop\n",
      "Name: 0, dtype: object\n",
      "/home/p4nzer96/Desktop/Morphing/Fingerprint/Morphenprint/LivDet-2021-Dataset/Dermalog_Consensual/31_18_1/Live/A_1/RIGHT_THUMB.jpg /home/p4nzer96/Desktop/Morphing/Fingerprint/Morphenprint/LivDet-2021-Dataset/Dermalog_Consensual/31_18_1/Live/A_1/LEFT_MIDDLE.jpg loop\n",
      "Error in loop alignment -'similarity_score'\n",
      "Error processing /home/p4nzer96/Desktop/Morphing/Fingerprint/Morphenprint/LivDet-2021-Dataset/Dermalog_Consensual/31_18_1/Live/A_1/RIGHT_THUMB.jpg and /home/p4nzer96/Desktop/Morphing/Fingerprint/Morphenprint/LivDet-2021-Dataset/Dermalog_Consensual/31_18_1/Live/A_1/LEFT_MIDDLE.jpg: 'similarity_score'\n",
      "Processing 1...\n",
      "Image1    /home/p4nzer96/Desktop/Morphing/Fingerprint/Mo...\n",
      "Image2    /home/p4nzer96/Desktop/Morphing/Fingerprint/Mo...\n",
      "Type                                                   loop\n",
      "Name: 1, dtype: object\n",
      "/home/p4nzer96/Desktop/Morphing/Fingerprint/Morphenprint/LivDet-2021-Dataset/Dermalog_Consensual/31_18_1/Live/A_1/RIGHT_THUMB.jpg /home/p4nzer96/Desktop/Morphing/Fingerprint/Morphenprint/LivDet-2021-Dataset/Dermalog_Consensual/31_18_1/Live/A_1/RIGHT_INDEX.jpg loop\n"
     ]
    },
    {
     "name": "stderr",
     "output_type": "stream",
     "text": [
      "Traceback (most recent call last):\n",
      "  File \"/home/p4nzer96/Desktop/Morphing/Fingerprint/Morphenprint/alignment/loop_alignment.py\", line 126, in get_loop_sim_score_df\n",
      "    sim_score_loop_df['similarity_score'] == sim_score_loop_df['similarity_score'].max()]\n",
      "  File \"/home/p4nzer96/miniconda3/envs/fing-morph/lib/python3.9/site-packages/pandas/core/frame.py\", line 4102, in __getitem__\n",
      "    indexer = self.columns.get_loc(key)\n",
      "  File \"/home/p4nzer96/miniconda3/envs/fing-morph/lib/python3.9/site-packages/pandas/core/indexes/range.py\", line 417, in get_loc\n",
      "    raise KeyError(key)\n",
      "KeyError: 'similarity_score'\n"
     ]
    },
    {
     "ename": "KeyboardInterrupt",
     "evalue": "",
     "output_type": "error",
     "traceback": [
      "\u001B[0;31m---------------------------------------------------------------------------\u001B[0m",
      "\u001B[0;31mKeyboardInterrupt\u001B[0m                         Traceback (most recent call last)",
      "Cell \u001B[0;32mIn[2], line 6\u001B[0m\n\u001B[1;32m      4\u001B[0m \u001B[38;5;66;03m# Load the minutiae list\u001B[39;00m\n\u001B[1;32m      5\u001B[0m path \u001B[38;5;241m=\u001B[39m Path(\u001B[38;5;124m\"\u001B[39m\u001B[38;5;124m./cropped_images\u001B[39m\u001B[38;5;124m\"\u001B[39m)\n\u001B[0;32m----> 6\u001B[0m \u001B[43malign_images\u001B[49m\u001B[43m(\u001B[49m\u001B[43mcombinations_l\u001B[49m\u001B[43m,\u001B[49m\u001B[43m \u001B[49m\u001B[38;5;241;43m16\u001B[39;49m\u001B[43m,\u001B[49m\u001B[43m \u001B[49m\u001B[43mpath\u001B[49m\u001B[43m)\u001B[49m\n",
      "File \u001B[0;32m~/Desktop/Morphing/Fingerprint/Morphenprint/fi_morphed_minutiae_list.py:151\u001B[0m, in \u001B[0;36malign_images\u001B[0;34m(combinations, W, overlapped_path)\u001B[0m\n\u001B[1;32m    148\u001B[0m \u001B[38;5;66;03m# Checking the image type\u001B[39;00m\n\u001B[1;32m    150\u001B[0m \u001B[38;5;28;01mif\u001B[39;00m img_type \u001B[38;5;241m==\u001B[39m \u001B[38;5;124m\"\u001B[39m\u001B[38;5;124mloop\u001B[39m\u001B[38;5;124m\"\u001B[39m:\n\u001B[0;32m--> 151\u001B[0m     transformed_img2, similarity_score_df \u001B[38;5;241m=\u001B[39m \u001B[43mget_loop_sim_score_df\u001B[49m\u001B[43m(\u001B[49m\n\u001B[1;32m    152\u001B[0m \u001B[43m        \u001B[49m\u001B[43mimg2\u001B[49m\u001B[43m,\u001B[49m\u001B[43m \u001B[49m\u001B[43mW\u001B[49m\u001B[43m,\u001B[49m\u001B[43m \u001B[49m\u001B[43mangles_1\u001B[49m\u001B[43m,\u001B[49m\u001B[43m \u001B[49m\u001B[43mrel_1\u001B[49m\u001B[43m,\u001B[49m\u001B[43m \u001B[49m\u001B[43mtx\u001B[49m\u001B[43m,\u001B[49m\u001B[43m \u001B[49m\u001B[43mty\u001B[49m\u001B[43m,\u001B[49m\u001B[43m \u001B[49m\u001B[43mloop_list_1\u001B[49m\n\u001B[1;32m    153\u001B[0m \u001B[43m    \u001B[49m\u001B[43m)\u001B[49m\n\u001B[1;32m    155\u001B[0m \u001B[38;5;28;01melif\u001B[39;00m img_type \u001B[38;5;241m==\u001B[39m \u001B[38;5;124m\"\u001B[39m\u001B[38;5;124mwhorl\u001B[39m\u001B[38;5;124m\"\u001B[39m:\n\u001B[1;32m    156\u001B[0m     transformed_img2, similarity_score_df \u001B[38;5;241m=\u001B[39m get_whorl_sim_score_df(\n\u001B[1;32m    157\u001B[0m         img2, W, angles_1, rel_1, tx, ty, loop_list_1\n\u001B[1;32m    158\u001B[0m     )\n",
      "File \u001B[0;32m~/Desktop/Morphing/Fingerprint/Morphenprint/alignment/loop_alignment.py:124\u001B[0m, in \u001B[0;36mget_loop_sim_score_df\u001B[0;34m(img2, W, angles_img1, rel_img1, tx_loop, ty_loop, loop_list_img1)\u001B[0m\n\u001B[1;32m    122\u001B[0m img2_center \u001B[38;5;241m=\u001B[39m (img2\u001B[38;5;241m.\u001B[39mshape[\u001B[38;5;241m0\u001B[39m] \u001B[38;5;241m/\u001B[39m\u001B[38;5;241m/\u001B[39m \u001B[38;5;241m2\u001B[39m, img2\u001B[38;5;241m.\u001B[39mshape[\u001B[38;5;241m1\u001B[39m] \u001B[38;5;241m/\u001B[39m\u001B[38;5;241m/\u001B[39m \u001B[38;5;241m2\u001B[39m)\n\u001B[1;32m    123\u001B[0m img2_t \u001B[38;5;241m=\u001B[39m translate(img2, tx_loop, ty_loop)\n\u001B[0;32m--> 124\u001B[0m sim_score_loop_df \u001B[38;5;241m=\u001B[39m \u001B[43mget_good_loop_align\u001B[49m\u001B[43m(\u001B[49m\u001B[43mimg2_t\u001B[49m\u001B[43m,\u001B[49m\u001B[43m \u001B[49m\u001B[43mW\u001B[49m\u001B[43m,\u001B[49m\u001B[43m \u001B[49m\u001B[43mimg2_center\u001B[49m\u001B[43m,\u001B[49m\u001B[43m \u001B[49m\u001B[43mloop_list_img1\u001B[49m\u001B[43m,\u001B[49m\u001B[43m \u001B[49m\u001B[43mangles_img1\u001B[49m\u001B[43m,\u001B[49m\u001B[43m \u001B[49m\u001B[43mrel_img1\u001B[49m\u001B[43m)\u001B[49m\n\u001B[1;32m    125\u001B[0m max_loop_sim_score \u001B[38;5;241m=\u001B[39m sim_score_loop_df[\n\u001B[1;32m    126\u001B[0m     sim_score_loop_df[\u001B[38;5;124m'\u001B[39m\u001B[38;5;124msimilarity_score\u001B[39m\u001B[38;5;124m'\u001B[39m] \u001B[38;5;241m==\u001B[39m sim_score_loop_df[\u001B[38;5;124m'\u001B[39m\u001B[38;5;124msimilarity_score\u001B[39m\u001B[38;5;124m'\u001B[39m]\u001B[38;5;241m.\u001B[39mmax()]\n\u001B[1;32m    127\u001B[0m img2_t_r \u001B[38;5;241m=\u001B[39m rotate(img2_t, \u001B[38;5;28mint\u001B[39m(max_loop_sim_score[\u001B[38;5;124m'\u001B[39m\u001B[38;5;124mrotation_angle\u001B[39m\u001B[38;5;124m'\u001B[39m]), img2_center)\n",
      "File \u001B[0;32m~/Desktop/Morphing/Fingerprint/Morphenprint/alignment/loop_alignment.py:39\u001B[0m, in \u001B[0;36mget_good_loop_align\u001B[0;34m(img_t, W, img2_center, loop_list_img1, angles_img1, rel_img1)\u001B[0m\n\u001B[1;32m     37\u001B[0m img2_t_r \u001B[38;5;241m=\u001B[39m rotate(img_t, angle, img2_center)\n\u001B[1;32m     38\u001B[0m \u001B[38;5;66;03m# Get the loop list, angles and reliability of the rotated image\u001B[39;00m\n\u001B[0;32m---> 39\u001B[0m img2_t_r_loop_list, _, _ \u001B[38;5;241m=\u001B[39m \u001B[43mget_loop_list_angles_rel_img\u001B[49m\u001B[43m(\u001B[49m\u001B[43mimg2_t_r\u001B[49m\u001B[43m,\u001B[49m\u001B[43m \u001B[49m\u001B[43mW\u001B[49m\u001B[43m)\u001B[49m\n\u001B[1;32m     40\u001B[0m \u001B[38;5;66;03m# Translate the image\u001B[39;00m\n\u001B[1;32m     41\u001B[0m img2_t_r_t \u001B[38;5;241m=\u001B[39m translate(img2_t_r, loop_list_img1[\u001B[38;5;241m0\u001B[39m][\u001B[38;5;241m0\u001B[39m][\u001B[38;5;241m1\u001B[39m] \u001B[38;5;241m-\u001B[39m img2_t_r_loop_list[\u001B[38;5;241m0\u001B[39m][\u001B[38;5;241m0\u001B[39m][\u001B[38;5;241m1\u001B[39m],\n\u001B[1;32m     42\u001B[0m                        loop_list_img1[\u001B[38;5;241m0\u001B[39m][\u001B[38;5;241m0\u001B[39m][\u001B[38;5;241m0\u001B[39m] \u001B[38;5;241m-\u001B[39m img2_t_r_loop_list[\u001B[38;5;241m0\u001B[39m][\u001B[38;5;241m0\u001B[39m][\u001B[38;5;241m0\u001B[39m])\n",
      "File \u001B[0;32m~/Desktop/Morphing/Fingerprint/Morphenprint/alignment/fi_alignment_config.py:18\u001B[0m, in \u001B[0;36mget_loop_list_angles_rel_img\u001B[0;34m(img, W)\u001B[0m\n\u001B[1;32m      6\u001B[0m \u001B[38;5;28;01mdef\u001B[39;00m \u001B[38;5;21mget_loop_list_angles_rel_img\u001B[39m(img, W):\n\u001B[1;32m      7\u001B[0m \u001B[38;5;250m    \u001B[39m\u001B[38;5;124;03m\"\"\"\u001B[39;00m\n\u001B[1;32m      8\u001B[0m \u001B[38;5;124;03m    Get loop list, angles and reliability image of a fingerprint image\u001B[39;00m\n\u001B[1;32m      9\u001B[0m \u001B[38;5;124;03m    Args:\u001B[39;00m\n\u001B[0;32m   (...)\u001B[0m\n\u001B[1;32m     16\u001B[0m \u001B[38;5;124;03m        rel_img: The reliability image of the fingerprint image\u001B[39;00m\n\u001B[1;32m     17\u001B[0m \u001B[38;5;124;03m    \"\"\"\u001B[39;00m\n\u001B[0;32m---> 18\u001B[0m     smooth_angles_img, angles_img, rel_img \u001B[38;5;241m=\u001B[39m \u001B[43morientation\u001B[49m\u001B[38;5;241;43m.\u001B[39;49m\u001B[43mcalculate_angles\u001B[49m\u001B[43m(\u001B[49m\u001B[43mimg\u001B[49m\u001B[43m,\u001B[49m\u001B[43m \u001B[49m\u001B[43mW\u001B[49m\u001B[43m,\u001B[49m\u001B[43m \u001B[49m\u001B[43msmooth\u001B[49m\u001B[38;5;241;43m=\u001B[39;49m\u001B[38;5;28;43;01mTrue\u001B[39;49;00m\u001B[43m)\u001B[49m\n\u001B[1;32m     19\u001B[0m     _, _, mask \u001B[38;5;241m=\u001B[39m create_segmented_and_variance_images(img, W, threshold\u001B[38;5;241m=\u001B[39m\u001B[38;5;241m0.2\u001B[39m)\n\u001B[1;32m     20\u001B[0m     _, _, loop_list, _, _ \u001B[38;5;241m=\u001B[39m singularity_extractor\u001B[38;5;241m.\u001B[39mcalculate_singularities(img, smooth_angles_img, \u001B[38;5;241m1\u001B[39m, W, mask)\n",
      "File \u001B[0;32m~/Desktop/Morphing/Fingerprint/Morphenprint/alignment/orientation.py:44\u001B[0m, in \u001B[0;36mcalculate_angles\u001B[0;34m(im, W, smooth)\u001B[0m\n\u001B[1;32m     41\u001B[0m Gx \u001B[38;5;241m=\u001B[39m np\u001B[38;5;241m.\u001B[39mround(Gx_[j: j\u001B[38;5;241m+\u001B[39mW, i: i\u001B[38;5;241m+\u001B[39mW])  \u001B[38;5;66;03m# Horizontal gradients at j, i\u001B[39;00m\n\u001B[1;32m     42\u001B[0m Gy \u001B[38;5;241m=\u001B[39m np\u001B[38;5;241m.\u001B[39mround(Gy_[j: j\u001B[38;5;241m+\u001B[39mW, i: i\u001B[38;5;241m+\u001B[39mW])  \u001B[38;5;66;03m# Vertical gradients at j, i\u001B[39;00m\n\u001B[0;32m---> 44\u001B[0m nominator \u001B[38;5;241m=\u001B[39m \u001B[43mnp\u001B[49m\u001B[38;5;241;43m.\u001B[39;49m\u001B[43msum\u001B[49m\u001B[43m(\u001B[49m\u001B[38;5;241;43m2\u001B[39;49m\u001B[43m \u001B[49m\u001B[38;5;241;43m*\u001B[39;49m\u001B[43m \u001B[49m\u001B[43mGx\u001B[49m\u001B[43m \u001B[49m\u001B[38;5;241;43m*\u001B[39;49m\u001B[43m \u001B[49m\u001B[43mGy\u001B[49m\u001B[43m)\u001B[49m\n\u001B[1;32m     45\u001B[0m denominator \u001B[38;5;241m=\u001B[39m np\u001B[38;5;241m.\u001B[39msum(Gx \u001B[38;5;241m*\u001B[39m\u001B[38;5;241m*\u001B[39m \u001B[38;5;241m2\u001B[39m \u001B[38;5;241m-\u001B[39m Gy \u001B[38;5;241m*\u001B[39m\u001B[38;5;241m*\u001B[39m \u001B[38;5;241m2\u001B[39m)\n\u001B[1;32m     47\u001B[0m rel_nom_1 \u001B[38;5;241m=\u001B[39m np\u001B[38;5;241m.\u001B[39marray(denominator, dtype\u001B[38;5;241m=\u001B[39mnp\u001B[38;5;241m.\u001B[39mfloat64)\n",
      "File \u001B[0;32m~/miniconda3/envs/fing-morph/lib/python3.9/site-packages/numpy/core/fromnumeric.py:2313\u001B[0m, in \u001B[0;36msum\u001B[0;34m(a, axis, dtype, out, keepdims, initial, where)\u001B[0m\n\u001B[1;32m   2310\u001B[0m         \u001B[38;5;28;01mreturn\u001B[39;00m out\n\u001B[1;32m   2311\u001B[0m     \u001B[38;5;28;01mreturn\u001B[39;00m res\n\u001B[0;32m-> 2313\u001B[0m \u001B[38;5;28;01mreturn\u001B[39;00m \u001B[43m_wrapreduction\u001B[49m\u001B[43m(\u001B[49m\u001B[43ma\u001B[49m\u001B[43m,\u001B[49m\u001B[43m \u001B[49m\u001B[43mnp\u001B[49m\u001B[38;5;241;43m.\u001B[39;49m\u001B[43madd\u001B[49m\u001B[43m,\u001B[49m\u001B[43m \u001B[49m\u001B[38;5;124;43m'\u001B[39;49m\u001B[38;5;124;43msum\u001B[39;49m\u001B[38;5;124;43m'\u001B[39;49m\u001B[43m,\u001B[49m\u001B[43m \u001B[49m\u001B[43maxis\u001B[49m\u001B[43m,\u001B[49m\u001B[43m \u001B[49m\u001B[43mdtype\u001B[49m\u001B[43m,\u001B[49m\u001B[43m \u001B[49m\u001B[43mout\u001B[49m\u001B[43m,\u001B[49m\u001B[43m \u001B[49m\u001B[43mkeepdims\u001B[49m\u001B[38;5;241;43m=\u001B[39;49m\u001B[43mkeepdims\u001B[49m\u001B[43m,\u001B[49m\n\u001B[1;32m   2314\u001B[0m \u001B[43m                      \u001B[49m\u001B[43minitial\u001B[49m\u001B[38;5;241;43m=\u001B[39;49m\u001B[43minitial\u001B[49m\u001B[43m,\u001B[49m\u001B[43m \u001B[49m\u001B[43mwhere\u001B[49m\u001B[38;5;241;43m=\u001B[39;49m\u001B[43mwhere\u001B[49m\u001B[43m)\u001B[49m\n",
      "File \u001B[0;32m~/miniconda3/envs/fing-morph/lib/python3.9/site-packages/numpy/core/fromnumeric.py:88\u001B[0m, in \u001B[0;36m_wrapreduction\u001B[0;34m(obj, ufunc, method, axis, dtype, out, **kwargs)\u001B[0m\n\u001B[1;32m     85\u001B[0m         \u001B[38;5;28;01melse\u001B[39;00m:\n\u001B[1;32m     86\u001B[0m             \u001B[38;5;28;01mreturn\u001B[39;00m reduction(axis\u001B[38;5;241m=\u001B[39maxis, out\u001B[38;5;241m=\u001B[39mout, \u001B[38;5;241m*\u001B[39m\u001B[38;5;241m*\u001B[39mpasskwargs)\n\u001B[0;32m---> 88\u001B[0m \u001B[38;5;28;01mreturn\u001B[39;00m \u001B[43mufunc\u001B[49m\u001B[38;5;241;43m.\u001B[39;49m\u001B[43mreduce\u001B[49m(obj, axis, dtype, out, \u001B[38;5;241m*\u001B[39m\u001B[38;5;241m*\u001B[39mpasskwargs)\n",
      "\u001B[0;31mKeyboardInterrupt\u001B[0m: "
     ]
    }
   ],
   "source": [
    "from pathlib import Path\n",
    "from fi_morphed_minutiae_list import align_images\n",
    "\n",
    "# Load the minutiae list\n",
    "path = Path(\"./cropped_images\")\n",
    "align_images(combinations_l, 16, path)"
   ]
  },
  {
   "cell_type": "code",
   "execution_count": null,
   "metadata": {},
   "outputs": [],
   "source": []
  }
 ],
 "metadata": {
  "kernelspec": {
   "display_name": "fing-morph",
   "language": "python",
   "name": "python3"
  },
  "language_info": {
   "codemirror_mode": {
    "name": "ipython",
    "version": 3
   },
   "file_extension": ".py",
   "mimetype": "text/x-python",
   "name": "python",
   "nbconvert_exporter": "python",
   "pygments_lexer": "ipython3",
   "version": "3.9.12"
  }
 },
 "nbformat": 4,
 "nbformat_minor": 2
}
